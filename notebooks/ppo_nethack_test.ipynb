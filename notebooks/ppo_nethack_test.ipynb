{
 "cells": [
  {
   "cell_type": "markdown",
   "metadata": {},
   "source": [
    "# Following the official PPO tutorial from TorchRL\n",
    "Link: https://pytorch.org/tutorials/intermediate/reinforcement_ppo.html"
   ]
  },
  {
   "cell_type": "code",
   "execution_count": 22,
   "metadata": {},
   "outputs": [],
   "source": [
    "import warnings\n",
    "warnings.filterwarnings(\"ignore\")\n",
    "from torch import multiprocessing\n",
    "\n",
    "from collections import defaultdict\n",
    "\n",
    "import matplotlib.pyplot as plt\n",
    "import torch\n",
    "from tensordict.nn import TensorDictModule, TensorDictSequential\n",
    "from tensordict.nn.distributions import NormalParamExtractor\n",
    "from torch import nn\n",
    "from torchrl import modules as trl_modules\n",
    "from torchrl.envs.libs import register_gym_spec_conversion\n",
    "from torchrl.collectors import SyncDataCollector, MultiaSyncDataCollector\n",
    "from torchrl.data.tensor_specs import NonTensor\n",
    "from torchrl.data.replay_buffers import ReplayBuffer\n",
    "from torchrl.data.replay_buffers.samplers import SamplerWithoutReplacement\n",
    "from torchrl.data.replay_buffers.storages import LazyTensorStorage\n",
    "from torchrl.envs import (Compose, DoubleToFloat, ObservationNorm, StepCounter, TransformedEnv, DTypeCastTransform)\n",
    "from torchrl.envs.libs.gym import GymEnv\n",
    "from torchrl.envs.utils import check_env_specs, ExplorationType, set_exploration_type\n",
    "from torchrl.modules import ProbabilisticActor, ValueOperator\n",
    "from torchrl.objectives import ClipPPOLoss\n",
    "from torchrl.objectives.value import GAE\n",
    "from tqdm import tqdm\n",
    "\n",
    "from sentence_transformers import SentenceTransformer\n",
    "from odyssey.nn.nethack.glyph_embedding import create_glyph_text_embedding\n",
    "from odyssey.nn.nethack.map_embedding import MapEmbedding\n",
    "from odyssey.nethack.transforms import render_tty_chars_transform\n",
    "\n",
    "import os"
   ]
  },
  {
   "cell_type": "markdown",
   "metadata": {},
   "source": [
    "# Hyperparameters"
   ]
  },
  {
   "cell_type": "code",
   "execution_count": 23,
   "metadata": {},
   "outputs": [],
   "source": [
    "is_fork = multiprocessing.get_start_method() == \"fork\"\n",
    "device = (\n",
    "    torch.device(0)\n",
    "    if torch.cuda.is_available() and not is_fork\n",
    "    else torch.device(\"cpu\")\n",
    ")\n",
    "num_cells = 256  # number of cells in each layer i.e. output dim.\n",
    "lr = 3e-4\n",
    "max_grad_norm = 1.0\n",
    "\n",
    "# Model\n",
    "cache_folder = \"./cache\"\n",
    "sentence_transformer_model = \"all-MiniLM-L6-v2\"\n",
    "glyph_embedding_dim = 10\n",
    "map_embedding_dim = 256\n",
    "\n",
    "# Data collection\n",
    "frames_per_batch = 1000\n",
    "# For a complete training, bring the number of frames up to 1M\n",
    "total_frames = 1_000_000\n",
    "\n",
    "# PPO\n",
    "sub_batch_size = 64  # cardinality of the sub-samples gathered from the current data in the inner loop\n",
    "num_epochs = 10  # optimization steps per batch of data collected\n",
    "clip_epsilon = 0.2  # clip value for PPO loss: see the equation in the intro for more context.\n",
    "gamma = 0.99\n",
    "lmbda = 0.95\n",
    "entropy_eps = 1e-4"
   ]
  },
  {
   "cell_type": "markdown",
   "metadata": {},
   "source": [
    "# Environment"
   ]
  },
  {
   "cell_type": "code",
   "execution_count": 24,
   "metadata": {},
   "outputs": [],
   "source": [
    "def create_env():\n",
    "    base_env = GymEnv(\"NetHackScore-v0\", device=device, categorical_action_encoding=True)\n",
    "    env = TransformedEnv(\n",
    "        base_env,\n",
    "        Compose(\n",
    "            DTypeCastTransform(torch.short, torch.long, in_keys=[\"glyphs\"]),\n",
    "            DoubleToFloat(),\n",
    "            StepCounter(),\n",
    "        ),\n",
    "    )\n",
    "    return env\n",
    "\n",
    "env = create_env()"
   ]
  },
  {
   "cell_type": "code",
   "execution_count": 25,
   "metadata": {},
   "outputs": [
    {
     "name": "stdout",
     "output_type": "stream",
     "text": [
      "observation_spec: Composite(\n",
      "    blstats: BoundedDiscrete(\n",
      "        shape=torch.Size([27]),\n",
      "        space=ContinuousBox(\n",
      "            low=Tensor(shape=torch.Size([27]), device=cuda:0, dtype=torch.int64, contiguous=True),\n",
      "            high=Tensor(shape=torch.Size([27]), device=cuda:0, dtype=torch.int64, contiguous=True)),\n",
      "        device=cuda:0,\n",
      "        dtype=torch.int64,\n",
      "        domain=discrete),\n",
      "    chars: UnboundedDiscrete(\n",
      "        shape=torch.Size([21, 79]),\n",
      "        space=ContinuousBox(\n",
      "            low=Tensor(shape=torch.Size([21, 79]), device=cuda:0, dtype=torch.uint8, contiguous=True),\n",
      "            high=Tensor(shape=torch.Size([21, 79]), device=cuda:0, dtype=torch.uint8, contiguous=True)),\n",
      "        device=cuda:0,\n",
      "        dtype=torch.uint8,\n",
      "        domain=discrete),\n",
      "    colors: BoundedDiscrete(\n",
      "        shape=torch.Size([21, 79]),\n",
      "        space=ContinuousBox(\n",
      "            low=Tensor(shape=torch.Size([21, 79]), device=cuda:0, dtype=torch.uint8, contiguous=True),\n",
      "            high=Tensor(shape=torch.Size([21, 79]), device=cuda:0, dtype=torch.uint8, contiguous=True)),\n",
      "        device=cuda:0,\n",
      "        dtype=torch.uint8,\n",
      "        domain=discrete),\n",
      "    glyphs: BoundedDiscrete(\n",
      "        shape=torch.Size([21, 79]),\n",
      "        space=ContinuousBox(\n",
      "            low=Tensor(shape=torch.Size([21, 79]), device=cuda:0, dtype=torch.int64, contiguous=True),\n",
      "            high=Tensor(shape=torch.Size([21, 79]), device=cuda:0, dtype=torch.int64, contiguous=True)),\n",
      "        device=cuda:0,\n",
      "        dtype=torch.int64,\n",
      "        domain=discrete),\n",
      "    inv_glyphs: BoundedDiscrete(\n",
      "        shape=torch.Size([55]),\n",
      "        space=ContinuousBox(\n",
      "            low=Tensor(shape=torch.Size([55]), device=cuda:0, dtype=torch.int16, contiguous=True),\n",
      "            high=Tensor(shape=torch.Size([55]), device=cuda:0, dtype=torch.int16, contiguous=True)),\n",
      "        device=cuda:0,\n",
      "        dtype=torch.int16,\n",
      "        domain=discrete),\n",
      "    inv_letters: BoundedDiscrete(\n",
      "        shape=torch.Size([55]),\n",
      "        space=ContinuousBox(\n",
      "            low=Tensor(shape=torch.Size([55]), device=cuda:0, dtype=torch.uint8, contiguous=True),\n",
      "            high=Tensor(shape=torch.Size([55]), device=cuda:0, dtype=torch.uint8, contiguous=True)),\n",
      "        device=cuda:0,\n",
      "        dtype=torch.uint8,\n",
      "        domain=discrete),\n",
      "    inv_oclasses: BoundedDiscrete(\n",
      "        shape=torch.Size([55]),\n",
      "        space=ContinuousBox(\n",
      "            low=Tensor(shape=torch.Size([55]), device=cuda:0, dtype=torch.uint8, contiguous=True),\n",
      "            high=Tensor(shape=torch.Size([55]), device=cuda:0, dtype=torch.uint8, contiguous=True)),\n",
      "        device=cuda:0,\n",
      "        dtype=torch.uint8,\n",
      "        domain=discrete),\n",
      "    inv_strs: UnboundedDiscrete(\n",
      "        shape=torch.Size([55, 80]),\n",
      "        space=ContinuousBox(\n",
      "            low=Tensor(shape=torch.Size([55, 80]), device=cuda:0, dtype=torch.uint8, contiguous=True),\n",
      "            high=Tensor(shape=torch.Size([55, 80]), device=cuda:0, dtype=torch.uint8, contiguous=True)),\n",
      "        device=cuda:0,\n",
      "        dtype=torch.uint8,\n",
      "        domain=discrete),\n",
      "    message: UnboundedDiscrete(\n",
      "        shape=torch.Size([256]),\n",
      "        space=ContinuousBox(\n",
      "            low=Tensor(shape=torch.Size([256]), device=cuda:0, dtype=torch.uint8, contiguous=True),\n",
      "            high=Tensor(shape=torch.Size([256]), device=cuda:0, dtype=torch.uint8, contiguous=True)),\n",
      "        device=cuda:0,\n",
      "        dtype=torch.uint8,\n",
      "        domain=discrete),\n",
      "    screen_descriptions: BoundedDiscrete(\n",
      "        shape=torch.Size([21, 79, 80]),\n",
      "        space=ContinuousBox(\n",
      "            low=Tensor(shape=torch.Size([21, 79, 80]), device=cuda:0, dtype=torch.uint8, contiguous=True),\n",
      "            high=Tensor(shape=torch.Size([21, 79, 80]), device=cuda:0, dtype=torch.uint8, contiguous=True)),\n",
      "        device=cuda:0,\n",
      "        dtype=torch.uint8,\n",
      "        domain=discrete),\n",
      "    specials: UnboundedDiscrete(\n",
      "        shape=torch.Size([21, 79]),\n",
      "        space=ContinuousBox(\n",
      "            low=Tensor(shape=torch.Size([21, 79]), device=cuda:0, dtype=torch.uint8, contiguous=True),\n",
      "            high=Tensor(shape=torch.Size([21, 79]), device=cuda:0, dtype=torch.uint8, contiguous=True)),\n",
      "        device=cuda:0,\n",
      "        dtype=torch.uint8,\n",
      "        domain=discrete),\n",
      "    tty_chars: UnboundedDiscrete(\n",
      "        shape=torch.Size([24, 80]),\n",
      "        space=ContinuousBox(\n",
      "            low=Tensor(shape=torch.Size([24, 80]), device=cuda:0, dtype=torch.uint8, contiguous=True),\n",
      "            high=Tensor(shape=torch.Size([24, 80]), device=cuda:0, dtype=torch.uint8, contiguous=True)),\n",
      "        device=cuda:0,\n",
      "        dtype=torch.uint8,\n",
      "        domain=discrete),\n",
      "    tty_colors: BoundedDiscrete(\n",
      "        shape=torch.Size([24, 80]),\n",
      "        space=ContinuousBox(\n",
      "            low=Tensor(shape=torch.Size([24, 80]), device=cuda:0, dtype=torch.int8, contiguous=True),\n",
      "            high=Tensor(shape=torch.Size([24, 80]), device=cuda:0, dtype=torch.int8, contiguous=True)),\n",
      "        device=cuda:0,\n",
      "        dtype=torch.int8,\n",
      "        domain=discrete),\n",
      "    tty_cursor: UnboundedDiscrete(\n",
      "        shape=torch.Size([2]),\n",
      "        space=ContinuousBox(\n",
      "            low=Tensor(shape=torch.Size([2]), device=cuda:0, dtype=torch.uint8, contiguous=True),\n",
      "            high=Tensor(shape=torch.Size([2]), device=cuda:0, dtype=torch.uint8, contiguous=True)),\n",
      "        device=cuda:0,\n",
      "        dtype=torch.uint8,\n",
      "        domain=discrete),\n",
      "    step_count: BoundedDiscrete(\n",
      "        shape=torch.Size([1]),\n",
      "        space=ContinuousBox(\n",
      "            low=Tensor(shape=torch.Size([1]), device=cuda:0, dtype=torch.int64, contiguous=True),\n",
      "            high=Tensor(shape=torch.Size([1]), device=cuda:0, dtype=torch.int64, contiguous=True)),\n",
      "        device=cuda:0,\n",
      "        dtype=torch.int64,\n",
      "        domain=discrete),\n",
      "    device=cuda:0,\n",
      "    shape=torch.Size([]))\n",
      "reward_spec: UnboundedContinuous(\n",
      "    shape=torch.Size([1]),\n",
      "    space=ContinuousBox(\n",
      "        low=Tensor(shape=torch.Size([1]), device=cuda:0, dtype=torch.float32, contiguous=True),\n",
      "        high=Tensor(shape=torch.Size([1]), device=cuda:0, dtype=torch.float32, contiguous=True)),\n",
      "    device=cuda:0,\n",
      "    dtype=torch.float32,\n",
      "    domain=continuous)\n",
      "input_spec: Composite(\n",
      "    full_state_spec: Composite(\n",
      "        step_count: BoundedDiscrete(\n",
      "            shape=torch.Size([1]),\n",
      "            space=ContinuousBox(\n",
      "                low=Tensor(shape=torch.Size([1]), device=cuda:0, dtype=torch.int64, contiguous=True),\n",
      "                high=Tensor(shape=torch.Size([1]), device=cuda:0, dtype=torch.int64, contiguous=True)),\n",
      "            device=cuda:0,\n",
      "            dtype=torch.int64,\n",
      "            domain=discrete),\n",
      "        device=cuda:0,\n",
      "        shape=torch.Size([])),\n",
      "    full_action_spec: Composite(\n",
      "        action: Categorical(\n",
      "            shape=torch.Size([]),\n",
      "            space=CategoricalBox(n=23),\n",
      "            device=cuda:0,\n",
      "            dtype=torch.int64,\n",
      "            domain=discrete),\n",
      "        device=cuda:0,\n",
      "        shape=torch.Size([])),\n",
      "    device=cuda:0,\n",
      "    shape=torch.Size([]))\n",
      "action_spec (as defined by input_spec): Categorical(\n",
      "    shape=torch.Size([]),\n",
      "    space=CategoricalBox(n=23),\n",
      "    device=cuda:0,\n",
      "    dtype=torch.int64,\n",
      "    domain=discrete)\n"
     ]
    }
   ],
   "source": [
    "print(\"observation_spec:\", env.observation_spec)\n",
    "print(\"reward_spec:\", env.reward_spec)\n",
    "print(\"input_spec:\", env.input_spec)\n",
    "print(\"action_spec (as defined by input_spec):\", env.action_spec)"
   ]
  },
  {
   "cell_type": "code",
   "execution_count": 26,
   "metadata": {},
   "outputs": [
    {
     "name": "stderr",
     "output_type": "stream",
     "text": [
      "2025-03-11 19:39:57,707 [torchrl][INFO] check_env_specs succeeded!\n"
     ]
    }
   ],
   "source": [
    "check_env_specs(env)"
   ]
  },
  {
   "cell_type": "code",
   "execution_count": 27,
   "metadata": {},
   "outputs": [
    {
     "name": "stdout",
     "output_type": "stream",
     "text": [
      "rollout of three steps: TensorDict(\n",
      "    fields={\n",
      "        action: Tensor(shape=torch.Size([3]), device=cuda:0, dtype=torch.int64, is_shared=True),\n",
      "        blstats: Tensor(shape=torch.Size([3, 27]), device=cuda:0, dtype=torch.int64, is_shared=True),\n",
      "        chars: Tensor(shape=torch.Size([3, 21, 79]), device=cuda:0, dtype=torch.uint8, is_shared=True),\n",
      "        colors: Tensor(shape=torch.Size([3, 21, 79]), device=cuda:0, dtype=torch.uint8, is_shared=True),\n",
      "        done: Tensor(shape=torch.Size([3, 1]), device=cuda:0, dtype=torch.bool, is_shared=True),\n",
      "        glyphs: Tensor(shape=torch.Size([3, 21, 79]), device=cuda:0, dtype=torch.int64, is_shared=True),\n",
      "        inv_glyphs: Tensor(shape=torch.Size([3, 55]), device=cuda:0, dtype=torch.int16, is_shared=True),\n",
      "        inv_letters: Tensor(shape=torch.Size([3, 55]), device=cuda:0, dtype=torch.uint8, is_shared=True),\n",
      "        inv_oclasses: Tensor(shape=torch.Size([3, 55]), device=cuda:0, dtype=torch.uint8, is_shared=True),\n",
      "        inv_strs: Tensor(shape=torch.Size([3, 55, 80]), device=cuda:0, dtype=torch.uint8, is_shared=True),\n",
      "        message: Tensor(shape=torch.Size([3, 256]), device=cuda:0, dtype=torch.uint8, is_shared=True),\n",
      "        next: TensorDict(\n",
      "            fields={\n",
      "                blstats: Tensor(shape=torch.Size([3, 27]), device=cuda:0, dtype=torch.int64, is_shared=True),\n",
      "                chars: Tensor(shape=torch.Size([3, 21, 79]), device=cuda:0, dtype=torch.uint8, is_shared=True),\n",
      "                colors: Tensor(shape=torch.Size([3, 21, 79]), device=cuda:0, dtype=torch.uint8, is_shared=True),\n",
      "                done: Tensor(shape=torch.Size([3, 1]), device=cuda:0, dtype=torch.bool, is_shared=True),\n",
      "                glyphs: Tensor(shape=torch.Size([3, 21, 79]), device=cuda:0, dtype=torch.int64, is_shared=True),\n",
      "                inv_glyphs: Tensor(shape=torch.Size([3, 55]), device=cuda:0, dtype=torch.int16, is_shared=True),\n",
      "                inv_letters: Tensor(shape=torch.Size([3, 55]), device=cuda:0, dtype=torch.uint8, is_shared=True),\n",
      "                inv_oclasses: Tensor(shape=torch.Size([3, 55]), device=cuda:0, dtype=torch.uint8, is_shared=True),\n",
      "                inv_strs: Tensor(shape=torch.Size([3, 55, 80]), device=cuda:0, dtype=torch.uint8, is_shared=True),\n",
      "                message: Tensor(shape=torch.Size([3, 256]), device=cuda:0, dtype=torch.uint8, is_shared=True),\n",
      "                reward: Tensor(shape=torch.Size([3, 1]), device=cuda:0, dtype=torch.float32, is_shared=True),\n",
      "                screen_descriptions: Tensor(shape=torch.Size([3, 21, 79, 80]), device=cuda:0, dtype=torch.uint8, is_shared=True),\n",
      "                specials: Tensor(shape=torch.Size([3, 21, 79]), device=cuda:0, dtype=torch.uint8, is_shared=True),\n",
      "                step_count: Tensor(shape=torch.Size([3, 1]), device=cuda:0, dtype=torch.int64, is_shared=True),\n",
      "                terminated: Tensor(shape=torch.Size([3, 1]), device=cuda:0, dtype=torch.bool, is_shared=True),\n",
      "                truncated: Tensor(shape=torch.Size([3, 1]), device=cuda:0, dtype=torch.bool, is_shared=True),\n",
      "                tty_chars: Tensor(shape=torch.Size([3, 24, 80]), device=cuda:0, dtype=torch.uint8, is_shared=True),\n",
      "                tty_colors: Tensor(shape=torch.Size([3, 24, 80]), device=cuda:0, dtype=torch.int8, is_shared=True),\n",
      "                tty_cursor: Tensor(shape=torch.Size([3, 2]), device=cuda:0, dtype=torch.uint8, is_shared=True)},\n",
      "            batch_size=torch.Size([3]),\n",
      "            device=cuda:0,\n",
      "            is_shared=True),\n",
      "        screen_descriptions: Tensor(shape=torch.Size([3, 21, 79, 80]), device=cuda:0, dtype=torch.uint8, is_shared=True),\n",
      "        specials: Tensor(shape=torch.Size([3, 21, 79]), device=cuda:0, dtype=torch.uint8, is_shared=True),\n",
      "        step_count: Tensor(shape=torch.Size([3, 1]), device=cuda:0, dtype=torch.int64, is_shared=True),\n",
      "        terminated: Tensor(shape=torch.Size([3, 1]), device=cuda:0, dtype=torch.bool, is_shared=True),\n",
      "        truncated: Tensor(shape=torch.Size([3, 1]), device=cuda:0, dtype=torch.bool, is_shared=True),\n",
      "        tty_chars: Tensor(shape=torch.Size([3, 24, 80]), device=cuda:0, dtype=torch.uint8, is_shared=True),\n",
      "        tty_colors: Tensor(shape=torch.Size([3, 24, 80]), device=cuda:0, dtype=torch.int8, is_shared=True),\n",
      "        tty_cursor: Tensor(shape=torch.Size([3, 2]), device=cuda:0, dtype=torch.uint8, is_shared=True)},\n",
      "    batch_size=torch.Size([3]),\n",
      "    device=cuda:0,\n",
      "    is_shared=True)\n",
      "Shape of the rollout TensorDict: torch.Size([3])\n"
     ]
    }
   ],
   "source": [
    "rollout = env.rollout(3)\n",
    "print(\"rollout of three steps:\", rollout)\n",
    "print(\"Shape of the rollout TensorDict:\", rollout.batch_size)"
   ]
  },
  {
   "cell_type": "markdown",
   "metadata": {},
   "source": [
    "# Architecture"
   ]
  },
  {
   "cell_type": "code",
   "execution_count": 28,
   "metadata": {},
   "outputs": [],
   "source": [
    "sentence_transformer = SentenceTransformer(\n",
    "    sentence_transformer_model,\n",
    "    device=device,\n",
    "    cache_folder=os.path.join(cache_folder, \"sentence_transformer\")\n",
    ")"
   ]
  },
  {
   "cell_type": "code",
   "execution_count": 29,
   "metadata": {},
   "outputs": [
    {
     "name": "stdout",
     "output_type": "stream",
     "text": [
      "Loading cached glyph embeddings './cache/glyph_text_embeddings_26feb2a5cc6e8d260506d3319e4302474eb1f0a7d0fc816becedb9fbeb6f42ba.torch'...\n"
     ]
    }
   ],
   "source": [
    "def create_net(output_dim: int, out_key: str):\n",
    "    glyph_module = TensorDictModule(\n",
    "        create_glyph_text_embedding(\n",
    "            embedding_dim=glyph_embedding_dim,\n",
    "            embedding_net=sentence_transformer,\n",
    "            cache_folder=cache_folder\n",
    "        ),\n",
    "        in_keys=[\"glyphs\"],\n",
    "        out_keys=[\"glyph_embedding\"]\n",
    "    )\n",
    "\n",
    "    map_module = TensorDictModule(\n",
    "        MapEmbedding(\n",
    "            embedding_dim=map_embedding_dim,\n",
    "            input_glyph_embedding_dim=glyph_embedding_dim,\n",
    "            use_cropped_view=False\n",
    "        ),\n",
    "        in_keys=[\"glyph_embedding\", \"blstats\"],\n",
    "        out_keys=[\"map_embedding\"]\n",
    "    )\n",
    "\n",
    "    net = TensorDictSequential(\n",
    "        glyph_module,\n",
    "        map_module,\n",
    "        TensorDictModule(\n",
    "            nn.Sequential(\n",
    "                nn.Tanh(),\n",
    "                nn.LazyLinear(num_cells),\n",
    "                nn.Tanh(),\n",
    "                nn.LazyLinear(num_cells),\n",
    "                nn.Tanh(),\n",
    "                nn.LazyLinear(num_cells),\n",
    "                nn.Tanh(),\n",
    "                nn.LazyLinear(output_dim),\n",
    "            ),\n",
    "            in_keys=[\"map_embedding\"],\n",
    "            out_keys=[out_key],\n",
    "        )\n",
    "    )\n",
    "\n",
    "    return net\n",
    "\n",
    "logits_net = create_net(env.action_spec.n, \"logits\").to(device)\n",
    "policy_module = ProbabilisticActor(\n",
    "    module=logits_net,\n",
    "    spec=env.action_spec,\n",
    "    in_keys=[\"logits\"],\n",
    "    distribution_class=torch.distributions.Categorical,\n",
    "    return_log_prob=True,\n",
    ")"
   ]
  },
  {
   "cell_type": "code",
   "execution_count": 30,
   "metadata": {},
   "outputs": [
    {
     "name": "stdout",
     "output_type": "stream",
     "text": [
      "Loading cached glyph embeddings './cache/glyph_text_embeddings_26feb2a5cc6e8d260506d3319e4302474eb1f0a7d0fc816becedb9fbeb6f42ba.torch'...\n"
     ]
    }
   ],
   "source": [
    "value_module = create_net(1, \"state_value\").to(device)"
   ]
  },
  {
   "cell_type": "code",
   "execution_count": 31,
   "metadata": {},
   "outputs": [
    {
     "name": "stdout",
     "output_type": "stream",
     "text": [
      "Running policy: TensorDict(\n",
      "    fields={\n",
      "        action: Tensor(shape=torch.Size([]), device=cuda:0, dtype=torch.int64, is_shared=True),\n",
      "        blstats: Tensor(shape=torch.Size([27]), device=cuda:0, dtype=torch.int64, is_shared=True),\n",
      "        chars: Tensor(shape=torch.Size([21, 79]), device=cuda:0, dtype=torch.uint8, is_shared=True),\n",
      "        colors: Tensor(shape=torch.Size([21, 79]), device=cuda:0, dtype=torch.uint8, is_shared=True),\n",
      "        done: Tensor(shape=torch.Size([1]), device=cuda:0, dtype=torch.bool, is_shared=True),\n",
      "        glyph_embedding: Tensor(shape=torch.Size([21, 79, 10]), device=cuda:0, dtype=torch.float32, is_shared=True),\n",
      "        glyphs: Tensor(shape=torch.Size([21, 79]), device=cuda:0, dtype=torch.int64, is_shared=True),\n",
      "        inv_glyphs: Tensor(shape=torch.Size([55]), device=cuda:0, dtype=torch.int16, is_shared=True),\n",
      "        inv_letters: Tensor(shape=torch.Size([55]), device=cuda:0, dtype=torch.uint8, is_shared=True),\n",
      "        inv_oclasses: Tensor(shape=torch.Size([55]), device=cuda:0, dtype=torch.uint8, is_shared=True),\n",
      "        inv_strs: Tensor(shape=torch.Size([55, 80]), device=cuda:0, dtype=torch.uint8, is_shared=True),\n",
      "        logits: Tensor(shape=torch.Size([23]), device=cuda:0, dtype=torch.float32, is_shared=True),\n",
      "        map_embedding: Tensor(shape=torch.Size([256]), device=cuda:0, dtype=torch.float32, is_shared=True),\n",
      "        message: Tensor(shape=torch.Size([256]), device=cuda:0, dtype=torch.uint8, is_shared=True),\n",
      "        sample_log_prob: Tensor(shape=torch.Size([]), device=cuda:0, dtype=torch.float32, is_shared=True),\n",
      "        screen_descriptions: Tensor(shape=torch.Size([21, 79, 80]), device=cuda:0, dtype=torch.uint8, is_shared=True),\n",
      "        specials: Tensor(shape=torch.Size([21, 79]), device=cuda:0, dtype=torch.uint8, is_shared=True),\n",
      "        step_count: Tensor(shape=torch.Size([1]), device=cuda:0, dtype=torch.int64, is_shared=True),\n",
      "        terminated: Tensor(shape=torch.Size([1]), device=cuda:0, dtype=torch.bool, is_shared=True),\n",
      "        truncated: Tensor(shape=torch.Size([1]), device=cuda:0, dtype=torch.bool, is_shared=True),\n",
      "        tty_chars: Tensor(shape=torch.Size([24, 80]), device=cuda:0, dtype=torch.uint8, is_shared=True),\n",
      "        tty_colors: Tensor(shape=torch.Size([24, 80]), device=cuda:0, dtype=torch.int8, is_shared=True),\n",
      "        tty_cursor: Tensor(shape=torch.Size([2]), device=cuda:0, dtype=torch.uint8, is_shared=True)},\n",
      "    batch_size=torch.Size([]),\n",
      "    device=cuda:0,\n",
      "    is_shared=True)\n",
      "Running value: TensorDict(\n",
      "    fields={\n",
      "        blstats: Tensor(shape=torch.Size([27]), device=cuda:0, dtype=torch.int64, is_shared=True),\n",
      "        chars: Tensor(shape=torch.Size([21, 79]), device=cuda:0, dtype=torch.uint8, is_shared=True),\n",
      "        colors: Tensor(shape=torch.Size([21, 79]), device=cuda:0, dtype=torch.uint8, is_shared=True),\n",
      "        done: Tensor(shape=torch.Size([1]), device=cuda:0, dtype=torch.bool, is_shared=True),\n",
      "        glyph_embedding: Tensor(shape=torch.Size([21, 79, 10]), device=cuda:0, dtype=torch.float32, is_shared=True),\n",
      "        glyphs: Tensor(shape=torch.Size([21, 79]), device=cuda:0, dtype=torch.int64, is_shared=True),\n",
      "        inv_glyphs: Tensor(shape=torch.Size([55]), device=cuda:0, dtype=torch.int16, is_shared=True),\n",
      "        inv_letters: Tensor(shape=torch.Size([55]), device=cuda:0, dtype=torch.uint8, is_shared=True),\n",
      "        inv_oclasses: Tensor(shape=torch.Size([55]), device=cuda:0, dtype=torch.uint8, is_shared=True),\n",
      "        inv_strs: Tensor(shape=torch.Size([55, 80]), device=cuda:0, dtype=torch.uint8, is_shared=True),\n",
      "        map_embedding: Tensor(shape=torch.Size([256]), device=cuda:0, dtype=torch.float32, is_shared=True),\n",
      "        message: Tensor(shape=torch.Size([256]), device=cuda:0, dtype=torch.uint8, is_shared=True),\n",
      "        screen_descriptions: Tensor(shape=torch.Size([21, 79, 80]), device=cuda:0, dtype=torch.uint8, is_shared=True),\n",
      "        specials: Tensor(shape=torch.Size([21, 79]), device=cuda:0, dtype=torch.uint8, is_shared=True),\n",
      "        state_value: Tensor(shape=torch.Size([1]), device=cuda:0, dtype=torch.float32, is_shared=True),\n",
      "        step_count: Tensor(shape=torch.Size([1]), device=cuda:0, dtype=torch.int64, is_shared=True),\n",
      "        terminated: Tensor(shape=torch.Size([1]), device=cuda:0, dtype=torch.bool, is_shared=True),\n",
      "        truncated: Tensor(shape=torch.Size([1]), device=cuda:0, dtype=torch.bool, is_shared=True),\n",
      "        tty_chars: Tensor(shape=torch.Size([24, 80]), device=cuda:0, dtype=torch.uint8, is_shared=True),\n",
      "        tty_colors: Tensor(shape=torch.Size([24, 80]), device=cuda:0, dtype=torch.int8, is_shared=True),\n",
      "        tty_cursor: Tensor(shape=torch.Size([2]), device=cuda:0, dtype=torch.uint8, is_shared=True)},\n",
      "    batch_size=torch.Size([]),\n",
      "    device=cuda:0,\n",
      "    is_shared=True)\n"
     ]
    }
   ],
   "source": [
    "print(\"Running policy:\", policy_module(env.reset()))\n",
    "print(\"Running value:\", value_module(env.reset()))"
   ]
  },
  {
   "cell_type": "markdown",
   "metadata": {},
   "source": [
    "# Data Collector"
   ]
  },
  {
   "cell_type": "code",
   "execution_count": 32,
   "metadata": {},
   "outputs": [],
   "source": [
    "collector = SyncDataCollector(\n",
    "    env,\n",
    "    policy_module,\n",
    "    frames_per_batch=frames_per_batch,\n",
    "    total_frames=total_frames,\n",
    "    split_trajs=False,\n",
    "    device=device,\n",
    ")\n",
    "\n",
    "# collector = MultiaSyncDataCollector(\n",
    "#     create_env_fn=[create_env, create_env],\n",
    "#     policy=policy_module,\n",
    "#     frames_per_batch=frames_per_batch,\n",
    "#     total_frames=total_frames,\n",
    "#     split_trajs=False,\n",
    "#     device=device,\n",
    "#     storing_device=\"cpu\",\n",
    "# )"
   ]
  },
  {
   "cell_type": "markdown",
   "metadata": {},
   "source": [
    "# Replay Buffer"
   ]
  },
  {
   "cell_type": "code",
   "execution_count": 33,
   "metadata": {},
   "outputs": [],
   "source": [
    "replay_buffer = ReplayBuffer(\n",
    "    storage=LazyTensorStorage(max_size=frames_per_batch),\n",
    "    sampler=SamplerWithoutReplacement(),\n",
    ")"
   ]
  },
  {
   "cell_type": "markdown",
   "metadata": {},
   "source": [
    "# Loss"
   ]
  },
  {
   "cell_type": "code",
   "execution_count": 34,
   "metadata": {},
   "outputs": [],
   "source": [
    "advantage_module = GAE(\n",
    "    gamma=gamma, lmbda=lmbda, value_network=value_module, average_gae=True\n",
    ")\n",
    "\n",
    "loss_module = ClipPPOLoss(\n",
    "    actor_network=policy_module,\n",
    "    critic_network=value_module,\n",
    "    clip_epsilon=clip_epsilon,\n",
    "    entropy_bonus=bool(entropy_eps),\n",
    "    entropy_coef=entropy_eps,\n",
    "    # these keys match by default but we set this for completeness\n",
    "    critic_coef=1.0,\n",
    "    loss_critic_type=\"smooth_l1\",\n",
    ")\n",
    "\n",
    "optim = torch.optim.Adam(loss_module.parameters(), lr)\n",
    "scheduler = torch.optim.lr_scheduler.CosineAnnealingLR(\n",
    "    optim, total_frames // frames_per_batch, 0.0\n",
    ")"
   ]
  },
  {
   "cell_type": "markdown",
   "metadata": {},
   "source": [
    "# Training loop"
   ]
  },
  {
   "cell_type": "code",
   "execution_count": 35,
   "metadata": {},
   "outputs": [
    {
     "name": "stderr",
     "output_type": "stream",
     "text": [
      "eval cumulative reward: -9.9700 (init: -9.9900), eval step-count: 999, average reward= 0.0479 (init= 0.0233), step count (max): 1342, lr policy:  0.0000: 100%|██████████| 1000000/1000000 [5:47:07<00:00, 48.57it/s]  "
     ]
    }
   ],
   "source": [
    "logs = defaultdict(list)\n",
    "pbar = tqdm(total=total_frames)\n",
    "eval_str = \"\"\n",
    "\n",
    "# We iterate over the collector until it reaches the total number of frames it was\n",
    "# designed to collect:\n",
    "for i, tensordict_data in enumerate(collector):\n",
    "    # we now have a batch of data to work with. Let's learn something from it.\n",
    "    for _ in range(num_epochs):\n",
    "        # We'll need an \"advantage\" signal to make PPO work.\n",
    "        # We re-compute it at each epoch as its value depends on the value\n",
    "        # network which is updated in the inner loop.\n",
    "        advantage_module(tensordict_data)\n",
    "        data_view = tensordict_data.reshape(-1)\n",
    "        replay_buffer.extend(data_view.cpu())\n",
    "        for _ in range(frames_per_batch // sub_batch_size):\n",
    "            subdata = replay_buffer.sample(sub_batch_size)\n",
    "            loss_vals = loss_module(subdata.to(device))\n",
    "            loss_value = (\n",
    "                loss_vals[\"loss_objective\"]\n",
    "                + loss_vals[\"loss_critic\"]\n",
    "                + loss_vals[\"loss_entropy\"]\n",
    "            )\n",
    "\n",
    "            # Optimization: backward, grad clipping and optimization step\n",
    "            loss_value.backward()\n",
    "            # this is not strictly mandatory but it's good practice to keep\n",
    "            # your gradient norm bounded\n",
    "            torch.nn.utils.clip_grad_norm_(loss_module.parameters(), max_grad_norm)\n",
    "            optim.step()\n",
    "            optim.zero_grad()\n",
    "\n",
    "    logs[\"reward\"].append(tensordict_data[\"next\", \"reward\"].mean().item())\n",
    "    pbar.update(tensordict_data.numel())\n",
    "    cum_reward_str = (\n",
    "        f\"average reward={logs['reward'][-1]: 4.4f} (init={logs['reward'][0]: 4.4f})\"\n",
    "    )\n",
    "    logs[\"step_count\"].append(tensordict_data[\"step_count\"].max().item())\n",
    "    stepcount_str = f\"step count (max): {logs['step_count'][-1]}\"\n",
    "    logs[\"lr\"].append(optim.param_groups[0][\"lr\"])\n",
    "    lr_str = f\"lr policy: {logs['lr'][-1]: 4.4f}\"\n",
    "    if i % 10 == 0:\n",
    "        # We evaluate the policy once every 10 batches of data.\n",
    "        # Evaluation is rather simple: execute the policy without exploration\n",
    "        # (take the expected value of the action distribution) for a given\n",
    "        # number of steps (1000, which is our ``env`` horizon).\n",
    "        # The ``rollout`` method of the ``env`` can take a policy as argument:\n",
    "        # it will then execute this policy at each step.\n",
    "        with set_exploration_type(ExplorationType.DETERMINISTIC), torch.no_grad():\n",
    "            # execute a rollout with the trained policy\n",
    "            eval_rollout = env.rollout(1000, policy_module)\n",
    "            logs[\"eval reward\"].append(eval_rollout[\"next\", \"reward\"].mean().item())\n",
    "            logs[\"eval reward (sum)\"].append(\n",
    "                eval_rollout[\"next\", \"reward\"].sum().item()\n",
    "            )\n",
    "            logs[\"eval step_count\"].append(eval_rollout[\"step_count\"].max().item())\n",
    "            eval_str = (\n",
    "                f\"eval cumulative reward: {logs['eval reward (sum)'][-1]: 4.4f} \"\n",
    "                f\"(init: {logs['eval reward (sum)'][0]: 4.4f}), \"\n",
    "                f\"eval step-count: {logs['eval step_count'][-1]}\"\n",
    "            )\n",
    "            del eval_rollout\n",
    "    pbar.set_description(\", \".join([eval_str, cum_reward_str, stepcount_str, lr_str]))\n",
    "\n",
    "    # We're also using a learning rate scheduler. Like the gradient clipping,\n",
    "    # this is a nice-to-have but nothing necessary for PPO to work.\n",
    "    scheduler.step()"
   ]
  },
  {
   "cell_type": "code",
   "execution_count": 36,
   "metadata": {},
   "outputs": [
    {
     "data": {
      "image/png": "[encoded data removed]",
      "text/plain": [
       "<Figure size 1000x1000 with 4 Axes>"
      ]
     },
     "metadata": {},
     "output_type": "display_data"
    }
   ],
   "source": [
    "plt.figure(figsize=(10, 10))\n",
    "plt.subplot(2, 2, 1)\n",
    "plt.plot(logs[\"reward\"])\n",
    "plt.title(\"training rewards (average)\")\n",
    "plt.subplot(2, 2, 2)\n",
    "plt.plot(logs[\"step_count\"])\n",
    "plt.title(\"Max step count (training)\")\n",
    "plt.subplot(2, 2, 3)\n",
    "plt.plot(logs[\"eval reward (sum)\"])\n",
    "plt.title(\"Return (test)\")\n",
    "plt.subplot(2, 2, 4)\n",
    "plt.plot(logs[\"eval step_count\"])\n",
    "plt.title(\"Max step count (test)\")\n",
    "plt.show()"
   ]
  },
  {
   "cell_type": "code",
   "execution_count": null,
   "metadata": {},
   "outputs": [
    {
     "name": "stderr",
     "output_type": "stream",
     "text": [
      "eval cumulative reward: -9.9700 (init: -9.9900), eval step-count: 999, average reward= 0.0479 (init= 0.0233), step count (max): 1342, lr policy:  0.0000: 100%|██████████| 1000000/1000000 [5:47:20<00:00, 48.57it/s]"
     ]
    }
   ],
   "source": [
    "from torchrl.record import VideoRecorder\n",
    "from torchrl.record.loggers.csv import CSVLogger\n",
    "\n",
    "logger = CSVLogger(exp_name=\"final_agent\", log_dir=\"videos\", video_format=\"mp4\")\n",
    "\n",
    "recorded_env = TransformedEnv(\n",
    "    GymEnv(\"NetHackScore-v0\", device=device, categorical_action_encoding=True),\n",
    "    Compose(\n",
    "        render_tty_chars_transform,\n",
    "        DTypeCastTransform(torch.short, torch.long, in_keys=[\"glyphs\"]),\n",
    "        DoubleToFloat(),\n",
    "        StepCounter(),\n",
    "        VideoRecorder(logger=logger, tag=\"run_video\", skip=1)\n",
    "    ),\n",
    ")\n",
    "\n",
    "_ = recorded_env.rollout(100, policy_module)\n",
    "#_ = recorded_env.rollout(100)\n",
    "recorded_env.transform.dump()"
   ]
  },
  {
   "cell_type": "code",
   "execution_count": null,
   "metadata": {},
   "outputs": [],
   "source": []
  }
 ],
 "metadata": {
  "kernelspec": {
   "display_name": "Python 3",
   "language": "python",
   "name": "python3"
  },
  "language_info": {
   "codemirror_mode": {
    "name": "ipython",
    "version": 3
   },
   "file_extension": ".py",
   "mimetype": "text/x-python",
   "name": "python",
   "nbconvert_exporter": "python",
   "pygments_lexer": "ipython3",
   "version": "3.10.12"
  }
 },
 "nbformat": 4,
 "nbformat_minor": 2
}
