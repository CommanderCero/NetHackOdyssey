{
 "cells": [
  {
   "cell_type": "markdown",
   "metadata": {},
   "source": [
    "# The official PPO tutorial from TorchRL modified to work with Minigrid\n",
    "Link: https://pytorch.org/tutorials/intermediate/reinforcement_ppo.html"
   ]
  },
  {
   "cell_type": "code",
   "execution_count": 114,
   "metadata": {},
   "outputs": [
    {
     "name": "stderr",
     "output_type": "stream",
     "text": [
      "4170.83s - pydevd: Sending message related to process being replaced timed-out after 5 seconds\n"
     ]
    },
    {
     "name": "stdout",
     "output_type": "stream",
     "text": [
      "Requirement already satisfied: torchrl in /usr/local/lib/python3.10/dist-packages (0.7.1)\n",
      "Requirement already satisfied: torch>=2.6.0 in /usr/local/lib/python3.10/dist-packages (from torchrl) (2.6.0)\n",
      "Requirement already satisfied: packaging in /usr/local/lib/python3.10/dist-packages (from torchrl) (24.2)\n",
      "Requirement already satisfied: tensordict>=0.7.0 in /usr/local/lib/python3.10/dist-packages (from torchrl) (0.7.1)\n",
      "Requirement already satisfied: numpy in /usr/local/lib/python3.10/dist-packages (from torchrl) (2.2.3)\n",
      "Requirement already satisfied: cloudpickle in /usr/local/lib/python3.10/dist-packages (from torchrl) (3.1.1)\n",
      "Requirement already satisfied: orjson in /usr/local/lib/python3.10/dist-packages (from tensordict>=0.7.0->torchrl) (3.10.15)\n",
      "Requirement already satisfied: jinja2 in /usr/local/lib/python3.10/dist-packages (from torch>=2.6.0->torchrl) (3.1.5)\n",
      "Requirement already satisfied: fsspec in /usr/local/lib/python3.10/dist-packages (from torch>=2.6.0->torchrl) (2025.2.0)\n",
      "Requirement already satisfied: nvidia-cuda-cupti-cu12==12.4.127 in /usr/local/lib/python3.10/dist-packages (from torch>=2.6.0->torchrl) (12.4.127)\n",
      "Requirement already satisfied: nvidia-cusparse-cu12==12.3.1.170 in /usr/local/lib/python3.10/dist-packages (from torch>=2.6.0->torchrl) (12.3.1.170)\n",
      "Requirement already satisfied: typing-extensions>=4.10.0 in /usr/local/lib/python3.10/dist-packages (from torch>=2.6.0->torchrl) (4.12.2)\n",
      "Requirement already satisfied: triton==3.2.0 in /usr/local/lib/python3.10/dist-packages (from torch>=2.6.0->torchrl) (3.2.0)\n",
      "Requirement already satisfied: nvidia-cuda-nvrtc-cu12==12.4.127 in /usr/local/lib/python3.10/dist-packages (from torch>=2.6.0->torchrl) (12.4.127)\n",
      "Requirement already satisfied: filelock in /usr/local/lib/python3.10/dist-packages (from torch>=2.6.0->torchrl) (3.17.0)\n",
      "Requirement already satisfied: nvidia-nvjitlink-cu12==12.4.127 in /usr/local/lib/python3.10/dist-packages (from torch>=2.6.0->torchrl) (12.4.127)\n",
      "Requirement already satisfied: nvidia-curand-cu12==10.3.5.147 in /usr/local/lib/python3.10/dist-packages (from torch>=2.6.0->torchrl) (10.3.5.147)\n",
      "Requirement already satisfied: nvidia-cufft-cu12==11.2.1.3 in /usr/local/lib/python3.10/dist-packages (from torch>=2.6.0->torchrl) (11.2.1.3)\n",
      "Requirement already satisfied: nvidia-cusparselt-cu12==0.6.2 in /usr/local/lib/python3.10/dist-packages (from torch>=2.6.0->torchrl) (0.6.2)\n",
      "Requirement already satisfied: nvidia-nccl-cu12==2.21.5 in /usr/local/lib/python3.10/dist-packages (from torch>=2.6.0->torchrl) (2.21.5)\n",
      "Requirement already satisfied: sympy==1.13.1 in /usr/local/lib/python3.10/dist-packages (from torch>=2.6.0->torchrl) (1.13.1)\n",
      "Requirement already satisfied: nvidia-cublas-cu12==12.4.5.8 in /usr/local/lib/python3.10/dist-packages (from torch>=2.6.0->torchrl) (12.4.5.8)\n",
      "Requirement already satisfied: nvidia-nvtx-cu12==12.4.127 in /usr/local/lib/python3.10/dist-packages (from torch>=2.6.0->torchrl) (12.4.127)\n",
      "Requirement already satisfied: nvidia-cudnn-cu12==9.1.0.70 in /usr/local/lib/python3.10/dist-packages (from torch>=2.6.0->torchrl) (9.1.0.70)\n",
      "Requirement already satisfied: nvidia-cusolver-cu12==11.6.1.9 in /usr/local/lib/python3.10/dist-packages (from torch>=2.6.0->torchrl) (11.6.1.9)\n",
      "Requirement already satisfied: networkx in /usr/local/lib/python3.10/dist-packages (from torch>=2.6.0->torchrl) (3.4.2)\n",
      "Requirement already satisfied: nvidia-cuda-runtime-cu12==12.4.127 in /usr/local/lib/python3.10/dist-packages (from torch>=2.6.0->torchrl) (12.4.127)\n",
      "Requirement already satisfied: mpmath<1.4,>=1.1.0 in /usr/local/lib/python3.10/dist-packages (from sympy==1.13.1->torch>=2.6.0->torchrl) (1.3.0)\n",
      "Requirement already satisfied: MarkupSafe>=2.0 in /usr/local/lib/python3.10/dist-packages (from jinja2->torch>=2.6.0->torchrl) (3.0.2)\n",
      "\u001b[33mWARNING: Running pip as the 'root' user can result in broken permissions and conflicting behaviour with the system package manager. It is recommended to use a virtual environment instead: https://pip.pypa.io/warnings/venv\u001b[0m\u001b[33m\n",
      "\u001b[0m"
     ]
    },
    {
     "name": "stderr",
     "output_type": "stream",
     "text": [
      "4177.19s - pydevd: Sending message related to process being replaced timed-out after 5 seconds\n"
     ]
    },
    {
     "name": "stdout",
     "output_type": "stream",
     "text": [
      "Requirement already satisfied: minigrid in /usr/local/lib/python3.10/dist-packages (3.0.0)\n",
      "Requirement already satisfied: numpy>=1.18.0 in /usr/local/lib/python3.10/dist-packages (from minigrid) (2.2.3)\n",
      "Requirement already satisfied: gymnasium>=0.28.1 in /usr/local/lib/python3.10/dist-packages (from minigrid) (0.29.1)\n",
      "Requirement already satisfied: pygame>=2.4.0 in /usr/local/lib/python3.10/dist-packages (from minigrid) (2.6.1)\n",
      "Requirement already satisfied: cloudpickle>=1.2.0 in /usr/local/lib/python3.10/dist-packages (from gymnasium>=0.28.1->minigrid) (3.1.1)\n",
      "Requirement already satisfied: farama-notifications>=0.0.1 in /usr/local/lib/python3.10/dist-packages (from gymnasium>=0.28.1->minigrid) (0.0.4)\n",
      "Requirement already satisfied: typing-extensions>=4.3.0 in /usr/local/lib/python3.10/dist-packages (from gymnasium>=0.28.1->minigrid) (4.12.2)\n",
      "\u001b[33mWARNING: Running pip as the 'root' user can result in broken permissions and conflicting behaviour with the system package manager. It is recommended to use a virtual environment instead: https://pip.pypa.io/warnings/venv\u001b[0m\u001b[33m\n",
      "\u001b[0m"
     ]
    },
    {
     "name": "stderr",
     "output_type": "stream",
     "text": [
      "4183.49s - pydevd: Sending message related to process being replaced timed-out after 5 seconds\n"
     ]
    },
    {
     "name": "stdout",
     "output_type": "stream",
     "text": [
      "Requirement already satisfied: tqdm in /usr/local/lib/python3.10/dist-packages (4.67.1)\n",
      "\u001b[33mWARNING: Running pip as the 'root' user can result in broken permissions and conflicting behaviour with the system package manager. It is recommended to use a virtual environment instead: https://pip.pypa.io/warnings/venv\u001b[0m\u001b[33m\n",
      "\u001b[0m"
     ]
    }
   ],
   "source": [
    "!pip install torchrl\n",
    "!pip install minigrid\n",
    "!pip install tqdm"
   ]
  },
  {
   "cell_type": "code",
   "execution_count": 115,
   "metadata": {},
   "outputs": [],
   "source": [
    "import warnings\n",
    "warnings.filterwarnings(\"ignore\")\n",
    "from torch import multiprocessing\n",
    "\n",
    "from collections import defaultdict\n",
    "\n",
    "import matplotlib.pyplot as plt\n",
    "import torch\n",
    "from tensordict.nn import TensorDictModule, TensorDictSequential\n",
    "from tensordict.nn.distributions import NormalParamExtractor\n",
    "from torch import nn\n",
    "from torchrl import modules as trl_modules\n",
    "from torchrl.envs.libs import register_gym_spec_conversion\n",
    "from torchrl.collectors import SyncDataCollector\n",
    "from torchrl.data.tensor_specs import NonTensor\n",
    "from torchrl.data.replay_buffers import ReplayBuffer\n",
    "from torchrl.data.replay_buffers.samplers import SamplerWithoutReplacement\n",
    "from torchrl.data.replay_buffers.storages import LazyTensorStorage\n",
    "from torchrl.envs import (Compose, DoubleToFloat, ObservationNorm, StepCounter, TransformedEnv)\n",
    "from torchrl.envs.libs.gym import GymEnv\n",
    "from torchrl.envs.utils import check_env_specs, ExplorationType, set_exploration_type\n",
    "from torchrl.modules import ProbabilisticActor, ValueOperator\n",
    "from torchrl.objectives import ClipPPOLoss\n",
    "from torchrl.objectives.value import GAE\n",
    "from tqdm import tqdm\n",
    "\n",
    "import minigrid\n",
    "from minigrid.core.constants import OBJECT_TO_IDX, COLOR_TO_IDX\n",
    "from minigrid.core.mission import MissionSpace"
   ]
  },
  {
   "cell_type": "markdown",
   "metadata": {},
   "source": [
    "# Hyperparameters"
   ]
  },
  {
   "cell_type": "code",
   "execution_count": 116,
   "metadata": {},
   "outputs": [],
   "source": [
    "is_fork = multiprocessing.get_start_method() == \"fork\"\n",
    "device = (\n",
    "    torch.device(0)\n",
    "    if torch.cuda.is_available() and not is_fork\n",
    "    else torch.device(\"cpu\")\n",
    ")\n",
    "num_cells = 256  # number of cells in each layer i.e. output dim.\n",
    "lr = 3e-4\n",
    "max_grad_norm = 1.0\n",
    "\n",
    "# Minigrid Embedding\n",
    "obs_embedding_dim = 64\n",
    "obs_cnn_depth = 2\n",
    "obs_cnn_cells = 32\n",
    "\n",
    "# Data collection\n",
    "frames_per_batch = 1000\n",
    "# For a complete training, bring the number of frames up to 1M\n",
    "# total_frames = 1_000_000\n",
    "total_frames = 50_000\n",
    "\n",
    "# PPO\n",
    "sub_batch_size = 64  # cardinality of the sub-samples gathered from the current data in the inner loop\n",
    "num_epochs = 10  # optimization steps per batch of data collected\n",
    "clip_epsilon = 0.2  # clip value for PPO loss: see the equation in the intro for more context.\n",
    "gamma = 0.99\n",
    "lmbda = 0.95\n",
    "entropy_eps = 1e-4"
   ]
  },
  {
   "cell_type": "markdown",
   "metadata": {},
   "source": [
    "# Environment"
   ]
  },
  {
   "cell_type": "code",
   "execution_count": 117,
   "metadata": {},
   "outputs": [],
   "source": [
    "@register_gym_spec_conversion(MissionSpace)\n",
    "def convert_mission_space(spec, device, **kwargs):\n",
    "    return NonTensor((), device=device)\n",
    "\n",
    "base_env = GymEnv(\"MiniGrid-Empty-5x5-v0\", device=device, categorical_action_encoding=True)\n",
    "env = TransformedEnv(\n",
    "    base_env,\n",
    "    Compose(\n",
    "        DoubleToFloat(),\n",
    "        StepCounter(),\n",
    "    ),\n",
    ")"
   ]
  },
  {
   "cell_type": "code",
   "execution_count": 118,
   "metadata": {},
   "outputs": [
    {
     "name": "stdout",
     "output_type": "stream",
     "text": [
      "observation_spec: Composite(\n",
      "    direction: Categorical(\n",
      "        shape=torch.Size([]),\n",
      "        space=CategoricalBox(n=4),\n",
      "        device=cuda:0,\n",
      "        dtype=torch.int64,\n",
      "        domain=discrete),\n",
      "    image: UnboundedDiscrete(\n",
      "        shape=torch.Size([7, 7, 3]),\n",
      "        space=ContinuousBox(\n",
      "            low=Tensor(shape=torch.Size([7, 7, 3]), device=cuda:0, dtype=torch.uint8, contiguous=True),\n",
      "            high=Tensor(shape=torch.Size([7, 7, 3]), device=cuda:0, dtype=torch.uint8, contiguous=True)),\n",
      "        device=cuda:0,\n",
      "        dtype=torch.uint8,\n",
      "        domain=discrete),\n",
      "    mission: NonTensor(\n",
      "        shape=torch.Size([]),\n",
      "        space=None,\n",
      "        device=cuda:0,\n",
      "        dtype=None,\n",
      "        domain=None),\n",
      "    step_count: BoundedDiscrete(\n",
      "        shape=torch.Size([1]),\n",
      "        space=ContinuousBox(\n",
      "            low=Tensor(shape=torch.Size([1]), device=cuda:0, dtype=torch.int64, contiguous=True),\n",
      "            high=Tensor(shape=torch.Size([1]), device=cuda:0, dtype=torch.int64, contiguous=True)),\n",
      "        device=cuda:0,\n",
      "        dtype=torch.int64,\n",
      "        domain=discrete),\n",
      "    device=cuda:0,\n",
      "    shape=torch.Size([]))\n",
      "reward_spec: UnboundedContinuous(\n",
      "    shape=torch.Size([1]),\n",
      "    space=ContinuousBox(\n",
      "        low=Tensor(shape=torch.Size([1]), device=cuda:0, dtype=torch.float32, contiguous=True),\n",
      "        high=Tensor(shape=torch.Size([1]), device=cuda:0, dtype=torch.float32, contiguous=True)),\n",
      "    device=cuda:0,\n",
      "    dtype=torch.float32,\n",
      "    domain=continuous)\n",
      "input_spec: Composite(\n",
      "    full_state_spec: Composite(\n",
      "        step_count: BoundedDiscrete(\n",
      "            shape=torch.Size([1]),\n",
      "            space=ContinuousBox(\n",
      "                low=Tensor(shape=torch.Size([1]), device=cuda:0, dtype=torch.int64, contiguous=True),\n",
      "                high=Tensor(shape=torch.Size([1]), device=cuda:0, dtype=torch.int64, contiguous=True)),\n",
      "            device=cuda:0,\n",
      "            dtype=torch.int64,\n",
      "            domain=discrete),\n",
      "        device=cuda:0,\n",
      "        shape=torch.Size([])),\n",
      "    full_action_spec: Composite(\n",
      "        action: Categorical(\n",
      "            shape=torch.Size([]),\n",
      "            space=CategoricalBox(n=7),\n",
      "            device=cuda:0,\n",
      "            dtype=torch.int64,\n",
      "            domain=discrete),\n",
      "        device=cuda:0,\n",
      "        shape=torch.Size([])),\n",
      "    device=cuda:0,\n",
      "    shape=torch.Size([]))\n",
      "action_spec (as defined by input_spec): Categorical(\n",
      "    shape=torch.Size([]),\n",
      "    space=CategoricalBox(n=7),\n",
      "    device=cuda:0,\n",
      "    dtype=torch.int64,\n",
      "    domain=discrete)\n"
     ]
    }
   ],
   "source": [
    "print(\"observation_spec:\", env.observation_spec)\n",
    "print(\"reward_spec:\", env.reward_spec)\n",
    "print(\"input_spec:\", env.input_spec)\n",
    "print(\"action_spec (as defined by input_spec):\", env.action_spec)"
   ]
  },
  {
   "cell_type": "code",
   "execution_count": 119,
   "metadata": {},
   "outputs": [
    {
     "name": "stderr",
     "output_type": "stream",
     "text": [
      "2025-02-24 17:48:22,907 [torchrl][INFO] check_env_specs succeeded!\n"
     ]
    }
   ],
   "source": [
    "check_env_specs(env)"
   ]
  },
  {
   "cell_type": "code",
   "execution_count": 120,
   "metadata": {},
   "outputs": [
    {
     "name": "stdout",
     "output_type": "stream",
     "text": [
      "rollout of three steps: TensorDict(\n",
      "    fields={\n",
      "        action: Tensor(shape=torch.Size([3]), device=cuda:0, dtype=torch.int64, is_shared=True),\n",
      "        direction: Tensor(shape=torch.Size([3]), device=cuda:0, dtype=torch.int64, is_shared=True),\n",
      "        done: Tensor(shape=torch.Size([3, 1]), device=cuda:0, dtype=torch.bool, is_shared=True),\n",
      "        image: Tensor(shape=torch.Size([3, 7, 7, 3]), device=cuda:0, dtype=torch.uint8, is_shared=True),\n",
      "        mission: NonTensorData(data=get to the green goal square, batch_size=torch.Size([3]), device=cuda:0),\n",
      "        next: TensorDict(\n",
      "            fields={\n",
      "                direction: Tensor(shape=torch.Size([3]), device=cuda:0, dtype=torch.int64, is_shared=True),\n",
      "                done: Tensor(shape=torch.Size([3, 1]), device=cuda:0, dtype=torch.bool, is_shared=True),\n",
      "                image: Tensor(shape=torch.Size([3, 7, 7, 3]), device=cuda:0, dtype=torch.uint8, is_shared=True),\n",
      "                mission: NonTensorData(data=get to the green goal square, batch_size=torch.Size([3]), device=cuda:0),\n",
      "                reward: Tensor(shape=torch.Size([3, 1]), device=cuda:0, dtype=torch.float32, is_shared=True),\n",
      "                step_count: Tensor(shape=torch.Size([3, 1]), device=cuda:0, dtype=torch.int64, is_shared=True),\n",
      "                terminated: Tensor(shape=torch.Size([3, 1]), device=cuda:0, dtype=torch.bool, is_shared=True),\n",
      "                truncated: Tensor(shape=torch.Size([3, 1]), device=cuda:0, dtype=torch.bool, is_shared=True)},\n",
      "            batch_size=torch.Size([3]),\n",
      "            device=cuda:0,\n",
      "            is_shared=True),\n",
      "        step_count: Tensor(shape=torch.Size([3, 1]), device=cuda:0, dtype=torch.int64, is_shared=True),\n",
      "        terminated: Tensor(shape=torch.Size([3, 1]), device=cuda:0, dtype=torch.bool, is_shared=True),\n",
      "        truncated: Tensor(shape=torch.Size([3, 1]), device=cuda:0, dtype=torch.bool, is_shared=True)},\n",
      "    batch_size=torch.Size([3]),\n",
      "    device=cuda:0,\n",
      "    is_shared=True)\n",
      "Shape of the rollout TensorDict: torch.Size([3])\n"
     ]
    }
   ],
   "source": [
    "rollout = env.rollout(3)\n",
    "print(\"rollout of three steps:\", rollout)\n",
    "print(\"Shape of the rollout TensorDict:\", rollout.batch_size)"
   ]
  },
  {
   "cell_type": "markdown",
   "metadata": {},
   "source": [
    "# Architecture"
   ]
  },
  {
   "cell_type": "code",
   "execution_count": 121,
   "metadata": {},
   "outputs": [],
   "source": [
    "class MinigridConvEmbedding(nn.Module):\n",
    "    def __init__(self,\n",
    "        embedding_size: int,\n",
    "        depth: int=3,\n",
    "        num_cells: int=32,\n",
    "        internal_map_embedding_dim: int=4,\n",
    "        internal_direction_embedding_dim: int=4,\n",
    "    ):\n",
    "        super().__init__()\n",
    "        self.embedding_size = embedding_size\n",
    "        self.map_embedding_dim = internal_map_embedding_dim\n",
    "        self.direction_embedding_dim = internal_direction_embedding_dim\n",
    "\n",
    "        self.color_embedding = nn.Embedding(len(COLOR_TO_IDX), self.map_embedding_dim)\n",
    "        self.object_embedding = nn.Embedding(len(OBJECT_TO_IDX), self.map_embedding_dim)\n",
    "        self.state_embedding = nn.Embedding(3, self.map_embedding_dim)\n",
    "        self.direction_embedding = nn.Embedding(4, self.direction_embedding_dim)\n",
    "\n",
    "        self.image_conv_net = trl_modules.ConvNet(\n",
    "            in_features=3 * self.map_embedding_dim,\n",
    "            depth=depth,\n",
    "            num_cells=num_cells\n",
    "        )\n",
    "\n",
    "        self.embedding_proj = nn.LazyLinear(self.embedding_size)\n",
    "\n",
    "    def forward(self, image, direction):\n",
    "        image = image.long()\n",
    "        direction = direction.long()\n",
    "\n",
    "        obj = self.object_embedding(image[..., 0])\n",
    "        color = self.color_embedding(image[..., 1])\n",
    "        state = self.state_embedding(image[..., 2])\n",
    "\n",
    "        # Output shape: (*B, H, W, C)\n",
    "        image = torch.cat([obj, color, state], dim=-1)\n",
    "        *B, _, _, _ = image.shape\n",
    "        # Permute to (*B, C, H, W)\n",
    "        image = image.permute(*range(len(B)), -1, -3, -2)\n",
    "        image_embedding = self.image_conv_net(image)\n",
    "        direction_embedding = self.direction_embedding(direction)\n",
    "\n",
    "        return self.embedding_proj(torch.cat([image_embedding, direction_embedding], dim=-1))\n",
    "\n",
    "logits_net = TensorDictSequential(\n",
    "    TensorDictModule(\n",
    "        MinigridConvEmbedding(\n",
    "            embedding_size=obs_embedding_dim,\n",
    "            depth=obs_cnn_depth,\n",
    "            num_cells=obs_cnn_cells\n",
    "        ),\n",
    "        in_keys=[\"image\", \"direction\"],\n",
    "        out_keys=[\"logits\"]\n",
    "    ),\n",
    "    TensorDictModule(\n",
    "        nn.Sequential(\n",
    "            nn.Tanh(),\n",
    "            nn.LazyLinear(num_cells),\n",
    "            nn.Tanh(),\n",
    "            nn.LazyLinear(num_cells),\n",
    "            nn.Tanh(),\n",
    "            nn.LazyLinear(num_cells),\n",
    "            nn.Tanh(),\n",
    "            nn.LazyLinear(env.action_spec.n),\n",
    "        ),\n",
    "        in_keys=[\"logits\"],\n",
    "        out_keys=[\"logits\"]\n",
    "    )\n",
    ").to(device)\n",
    "\n",
    "policy_module = ProbabilisticActor(\n",
    "    module=logits_net,\n",
    "    spec=env.action_spec,\n",
    "    in_keys=[\"logits\"],\n",
    "    distribution_class=torch.distributions.Categorical,\n",
    "    return_log_prob=True,\n",
    ")"
   ]
  },
  {
   "cell_type": "code",
   "execution_count": 122,
   "metadata": {},
   "outputs": [],
   "source": [
    "value_module = TensorDictSequential(\n",
    "    TensorDictModule(\n",
    "        MinigridConvEmbedding(\n",
    "            embedding_size=obs_embedding_dim,\n",
    "            depth=obs_cnn_depth,\n",
    "            num_cells=obs_cnn_cells\n",
    "        ),\n",
    "        in_keys=[\"image\", \"direction\"],\n",
    "        out_keys=[\"state_value\"]\n",
    "    ),\n",
    "    TensorDictModule(\n",
    "        nn.Sequential(\n",
    "            nn.Tanh(),\n",
    "            nn.LazyLinear(num_cells),\n",
    "            nn.Tanh(),\n",
    "            nn.LazyLinear(num_cells),\n",
    "            nn.Tanh(),\n",
    "            nn.LazyLinear(num_cells),\n",
    "            nn.Tanh(),\n",
    "            nn.LazyLinear(1),\n",
    "        ),\n",
    "        in_keys=[\"state_value\"],\n",
    "        out_keys=[\"state_value\"]\n",
    "    )\n",
    ").to(device)"
   ]
  },
  {
   "cell_type": "code",
   "execution_count": 123,
   "metadata": {},
   "outputs": [
    {
     "name": "stdout",
     "output_type": "stream",
     "text": [
      "Running policy: TensorDict(\n",
      "    fields={\n",
      "        action: Tensor(shape=torch.Size([]), device=cuda:0, dtype=torch.int64, is_shared=True),\n",
      "        direction: Tensor(shape=torch.Size([]), device=cuda:0, dtype=torch.int64, is_shared=True),\n",
      "        done: Tensor(shape=torch.Size([1]), device=cuda:0, dtype=torch.bool, is_shared=True),\n",
      "        image: Tensor(shape=torch.Size([7, 7, 3]), device=cuda:0, dtype=torch.uint8, is_shared=True),\n",
      "        logits: Tensor(shape=torch.Size([7]), device=cuda:0, dtype=torch.float32, is_shared=True),\n",
      "        mission: NonTensorData(data=get to the green goal square, batch_size=torch.Size([]), device=cuda:0),\n",
      "        sample_log_prob: Tensor(shape=torch.Size([]), device=cuda:0, dtype=torch.float32, is_shared=True),\n",
      "        step_count: Tensor(shape=torch.Size([1]), device=cuda:0, dtype=torch.int64, is_shared=True),\n",
      "        terminated: Tensor(shape=torch.Size([1]), device=cuda:0, dtype=torch.bool, is_shared=True),\n",
      "        truncated: Tensor(shape=torch.Size([1]), device=cuda:0, dtype=torch.bool, is_shared=True)},\n",
      "    batch_size=torch.Size([]),\n",
      "    device=cuda:0,\n",
      "    is_shared=True)\n",
      "Running value: TensorDict(\n",
      "    fields={\n",
      "        direction: Tensor(shape=torch.Size([]), device=cuda:0, dtype=torch.int64, is_shared=True),\n",
      "        done: Tensor(shape=torch.Size([1]), device=cuda:0, dtype=torch.bool, is_shared=True),\n",
      "        image: Tensor(shape=torch.Size([7, 7, 3]), device=cuda:0, dtype=torch.uint8, is_shared=True),\n",
      "        mission: NonTensorData(data=get to the green goal square, batch_size=torch.Size([]), device=cuda:0),\n",
      "        state_value: Tensor(shape=torch.Size([1]), device=cuda:0, dtype=torch.float32, is_shared=True),\n",
      "        step_count: Tensor(shape=torch.Size([1]), device=cuda:0, dtype=torch.int64, is_shared=True),\n",
      "        terminated: Tensor(shape=torch.Size([1]), device=cuda:0, dtype=torch.bool, is_shared=True),\n",
      "        truncated: Tensor(shape=torch.Size([1]), device=cuda:0, dtype=torch.bool, is_shared=True)},\n",
      "    batch_size=torch.Size([]),\n",
      "    device=cuda:0,\n",
      "    is_shared=True)\n"
     ]
    }
   ],
   "source": [
    "print(\"Running policy:\", policy_module(env.reset()))\n",
    "print(\"Running value:\", value_module(env.reset()))"
   ]
  },
  {
   "cell_type": "markdown",
   "metadata": {},
   "source": [
    "# Data Collector"
   ]
  },
  {
   "cell_type": "code",
   "execution_count": 124,
   "metadata": {},
   "outputs": [],
   "source": [
    "collector = SyncDataCollector(\n",
    "    env,\n",
    "    policy_module,\n",
    "    frames_per_batch=frames_per_batch,\n",
    "    total_frames=total_frames,\n",
    "    split_trajs=False,\n",
    "    device=device,\n",
    ")"
   ]
  },
  {
   "cell_type": "markdown",
   "metadata": {},
   "source": [
    "# Replay Buffer"
   ]
  },
  {
   "cell_type": "code",
   "execution_count": 125,
   "metadata": {},
   "outputs": [],
   "source": [
    "replay_buffer = ReplayBuffer(\n",
    "    storage=LazyTensorStorage(max_size=frames_per_batch),\n",
    "    sampler=SamplerWithoutReplacement(),\n",
    ")"
   ]
  },
  {
   "cell_type": "markdown",
   "metadata": {},
   "source": [
    "# Loss"
   ]
  },
  {
   "cell_type": "code",
   "execution_count": 126,
   "metadata": {},
   "outputs": [],
   "source": [
    "advantage_module = GAE(\n",
    "    gamma=gamma, lmbda=lmbda, value_network=value_module, average_gae=True\n",
    ")\n",
    "\n",
    "loss_module = ClipPPOLoss(\n",
    "    actor_network=policy_module,\n",
    "    critic_network=value_module,\n",
    "    clip_epsilon=clip_epsilon,\n",
    "    entropy_bonus=bool(entropy_eps),\n",
    "    entropy_coef=entropy_eps,\n",
    "    # these keys match by default but we set this for completeness\n",
    "    critic_coef=1.0,\n",
    "    loss_critic_type=\"smooth_l1\",\n",
    ")\n",
    "\n",
    "optim = torch.optim.Adam(loss_module.parameters(), lr)\n",
    "scheduler = torch.optim.lr_scheduler.CosineAnnealingLR(\n",
    "    optim, total_frames // frames_per_batch, 0.0\n",
    ")"
   ]
  },
  {
   "cell_type": "markdown",
   "metadata": {},
   "source": [
    "# Training loop"
   ]
  },
  {
   "cell_type": "code",
   "execution_count": 127,
   "metadata": {},
   "outputs": [
    {
     "name": "stderr",
     "output_type": "stream",
     "text": [
      "eval cumulative reward:  0.0000 (init:  0.0000), eval step-count: 249, average reward= 0.0000 (init= 0.0000), step count (max): 249, lr policy:  0.0003:  22%|██▏       | 11000/50000 [01:55<06:49, 95.21it/s] \n",
      "eval cumulative reward:  0.9550 (init:  0.0000), eval step-count: 4, average reward= 0.1910 (init= 0.0036), step count (max): 4, lr policy:  0.0000: 100%|██████████| 50000/50000 [06:40<00:00, 128.62it/s]  "
     ]
    }
   ],
   "source": [
    "logs = defaultdict(list)\n",
    "pbar = tqdm(total=total_frames)\n",
    "eval_str = \"\"\n",
    "\n",
    "# We iterate over the collector until it reaches the total number of frames it was\n",
    "# designed to collect:\n",
    "for i, tensordict_data in enumerate(collector):\n",
    "    # we now have a batch of data to work with. Let's learn something from it.\n",
    "    for _ in range(num_epochs):\n",
    "        # We'll need an \"advantage\" signal to make PPO work.\n",
    "        # We re-compute it at each epoch as its value depends on the value\n",
    "        # network which is updated in the inner loop.\n",
    "        advantage_module(tensordict_data)\n",
    "        data_view = tensordict_data.reshape(-1)\n",
    "        replay_buffer.extend(data_view.cpu())\n",
    "        for _ in range(frames_per_batch // sub_batch_size):\n",
    "            subdata = replay_buffer.sample(sub_batch_size)\n",
    "            loss_vals = loss_module(subdata.to(device))\n",
    "            loss_value = (\n",
    "                loss_vals[\"loss_objective\"]\n",
    "                + loss_vals[\"loss_critic\"]\n",
    "                + loss_vals[\"loss_entropy\"]\n",
    "            )\n",
    "\n",
    "            # Optimization: backward, grad clipping and optimization step\n",
    "            loss_value.backward()\n",
    "            # this is not strictly mandatory but it's good practice to keep\n",
    "            # your gradient norm bounded\n",
    "            torch.nn.utils.clip_grad_norm_(loss_module.parameters(), max_grad_norm)\n",
    "            optim.step()\n",
    "            optim.zero_grad()\n",
    "\n",
    "    logs[\"reward\"].append(tensordict_data[\"next\", \"reward\"].mean().item())\n",
    "    pbar.update(tensordict_data.numel())\n",
    "    cum_reward_str = (\n",
    "        f\"average reward={logs['reward'][-1]: 4.4f} (init={logs['reward'][0]: 4.4f})\"\n",
    "    )\n",
    "    logs[\"step_count\"].append(tensordict_data[\"step_count\"].max().item())\n",
    "    stepcount_str = f\"step count (max): {logs['step_count'][-1]}\"\n",
    "    logs[\"lr\"].append(optim.param_groups[0][\"lr\"])\n",
    "    lr_str = f\"lr policy: {logs['lr'][-1]: 4.4f}\"\n",
    "    if i % 10 == 0:\n",
    "        # We evaluate the policy once every 10 batches of data.\n",
    "        # Evaluation is rather simple: execute the policy without exploration\n",
    "        # (take the expected value of the action distribution) for a given\n",
    "        # number of steps (1000, which is our ``env`` horizon).\n",
    "        # The ``rollout`` method of the ``env`` can take a policy as argument:\n",
    "        # it will then execute this policy at each step.\n",
    "        with set_exploration_type(ExplorationType.DETERMINISTIC), torch.no_grad():\n",
    "            # execute a rollout with the trained policy\n",
    "            eval_rollout = env.rollout(1000, policy_module)\n",
    "            logs[\"eval reward\"].append(eval_rollout[\"next\", \"reward\"].mean().item())\n",
    "            logs[\"eval reward (sum)\"].append(\n",
    "                eval_rollout[\"next\", \"reward\"].sum().item()\n",
    "            )\n",
    "            logs[\"eval step_count\"].append(eval_rollout[\"step_count\"].max().item())\n",
    "            eval_str = (\n",
    "                f\"eval cumulative reward: {logs['eval reward (sum)'][-1]: 4.4f} \"\n",
    "                f\"(init: {logs['eval reward (sum)'][0]: 4.4f}), \"\n",
    "                f\"eval step-count: {logs['eval step_count'][-1]}\"\n",
    "            )\n",
    "            del eval_rollout\n",
    "    pbar.set_description(\", \".join([eval_str, cum_reward_str, stepcount_str, lr_str]))\n",
    "\n",
    "    # We're also using a learning rate scheduler. Like the gradient clipping,\n",
    "    # this is a nice-to-have but nothing necessary for PPO to work.\n",
    "    scheduler.step()"
   ]
  },
  {
   "cell_type": "code",
   "execution_count": 128,
   "metadata": {},
   "outputs": [
    {
     "data": {
      "image/png": "[encoded data removed]",
      "text/plain": [
       "<Figure size 1000x1000 with 4 Axes>"
      ]
     },
     "metadata": {},
     "output_type": "display_data"
    }
   ],
   "source": [
    "plt.figure(figsize=(10, 10))\n",
    "plt.subplot(2, 2, 1)\n",
    "plt.plot(logs[\"reward\"])\n",
    "plt.title(\"training rewards (average)\")\n",
    "plt.subplot(2, 2, 2)\n",
    "plt.plot(logs[\"step_count\"])\n",
    "plt.title(\"Max step count (training)\")\n",
    "plt.subplot(2, 2, 3)\n",
    "plt.plot(logs[\"eval reward (sum)\"])\n",
    "plt.title(\"Return (test)\")\n",
    "plt.subplot(2, 2, 4)\n",
    "plt.plot(logs[\"eval step_count\"])\n",
    "plt.title(\"Max step count (test)\")\n",
    "plt.show()"
   ]
  },
  {
   "cell_type": "code",
   "execution_count": 135,
   "metadata": {},
   "outputs": [],
   "source": [
    "from torchrl.record import VideoRecorder\n",
    "from torchrl.record.loggers.csv import CSVLogger\n",
    "\n",
    "logger = CSVLogger(exp_name=\"final_agent\", log_dir=\"videos\", video_format=\"mp4\", video_fps=1)\n",
    "\n",
    "recorded_env = TransformedEnv(\n",
    "    GymEnv(\"MiniGrid-Empty-5x5-v0\", device=device, from_pixels=True, pixels_only=False, categorical_action_encoding=True),\n",
    "    Compose(\n",
    "        DoubleToFloat(),\n",
    "        StepCounter(),\n",
    "        VideoRecorder(logger=logger, tag=\"run_video\", skip=1)\n",
    "    ),\n",
    ")\n",
    "\n",
    "_ = recorded_env.rollout(1000, policy_module)\n",
    "recorded_env.transform.dump()"
   ]
  },
  {
   "cell_type": "code",
   "execution_count": null,
   "metadata": {},
   "outputs": [],
   "source": []
  }
 ],
 "metadata": {
  "kernelspec": {
   "display_name": "Python 3",
   "language": "python",
   "name": "python3"
  },
  "language_info": {
   "codemirror_mode": {
    "name": "ipython",
    "version": 3
   },
   "file_extension": ".py",
   "mimetype": "text/x-python",
   "name": "python",
   "nbconvert_exporter": "python",
   "pygments_lexer": "ipython3",
   "version": "3.10.12"
  }
 },
 "nbformat": 4,
 "nbformat_minor": 2
}
